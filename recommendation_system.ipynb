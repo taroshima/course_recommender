{
 "cells": [
  {
   "cell_type": "code",
   "execution_count": 35,
   "metadata": {},
   "outputs": [],
   "source": [
    "import pandas as pd\n",
    "import numpy as np\n",
    "from tensorflow.keras.preprocessing.text import Tokenizer\n",
    "from tensorflow.keras.preprocessing.sequence import pad_sequences\n",
    "from tensorflow.keras import layers, models\n",
    "\n",
    "from sklearn.preprocessing import OneHotEncoder, StandardScaler\n",
    "from sklearn.metrics.pairwise import cosine_similarity\n"
   ]
  },
  {
   "cell_type": "code",
   "execution_count": 36,
   "metadata": {},
   "outputs": [
    {
     "name": "stdout",
     "output_type": "stream",
     "text": [
      "Index(['id', 'title', 'is_paid', 'price', 'headline', 'num_subscribers',\n",
      "       'avg_rating', 'num_reviews', 'num_comments', 'num_lectures',\n",
      "       'content_length_min', 'published_time', 'last_update_date', 'category',\n",
      "       'subcategory', 'topic', 'language', 'course_url', 'instructor_name',\n",
      "       'instructor_url'],\n",
      "      dtype='object')\n"
     ]
    }
   ],
   "source": [
    "# Load the dataset\n",
    "df = pd.read_csv(\"course_info.csv\")\n",
    "\n",
    "df.columns = df.columns.str.strip()\n",
    "\n",
    "print(df.columns)\n"
   ]
  },
  {
   "cell_type": "code",
   "execution_count": 37,
   "metadata": {},
   "outputs": [],
   "source": [
    "#RUN ONLY WHEN REQUIRED\n",
    "df = df[df['language'] == 'English']\n",
    "columns_to_drop = ['id', 'course_url', 'instructor_url', 'published_time', 'last_update_date','instructor_name','language']\n",
    "df = df.drop(columns=columns_to_drop)\n",
    "df = df.dropna()\n",
    "\n"
   ]
  },
  {
   "cell_type": "code",
   "execution_count": 38,
   "metadata": {},
   "outputs": [
    {
     "name": "stdout",
     "output_type": "stream",
     "text": [
      "<class 'pandas.core.frame.DataFrame'>\n",
      "Index: 123351 entries, 0 to 209733\n",
      "Data columns (total 13 columns):\n",
      " #   Column              Non-Null Count   Dtype  \n",
      "---  ------              --------------   -----  \n",
      " 0   title               123351 non-null  object \n",
      " 1   is_paid             123351 non-null  bool   \n",
      " 2   price               123351 non-null  float64\n",
      " 3   headline            123351 non-null  object \n",
      " 4   num_subscribers     123351 non-null  float64\n",
      " 5   avg_rating          123351 non-null  float64\n",
      " 6   num_reviews         123351 non-null  float64\n",
      " 7   num_comments        123351 non-null  float64\n",
      " 8   num_lectures        123351 non-null  float64\n",
      " 9   content_length_min  123351 non-null  float64\n",
      " 10  category            123351 non-null  object \n",
      " 11  subcategory         123351 non-null  object \n",
      " 12  topic               123351 non-null  object \n",
      "dtypes: bool(1), float64(7), object(5)\n",
      "memory usage: 12.4+ MB\n"
     ]
    }
   ],
   "source": [
    "df.info()"
   ]
  },
  {
   "cell_type": "code",
   "execution_count": 39,
   "metadata": {},
   "outputs": [
    {
     "name": "stdout",
     "output_type": "stream",
     "text": [
      "                                               title  is_paid   price   \n",
      "0             Online Vegan Vegetarian Cooking School     True   24.99  \\\n",
      "1         The Lean Startup Talk at Stanford E-Corner    False    0.00   \n",
      "2  How To Become a Vegan, Vegetarian, or Flexitarian     True   19.99   \n",
      "3                               How to Train a Puppy     True  199.99   \n",
      "4                      Web Design from the Ground Up     True  159.99   \n",
      "\n",
      "                                            headline  num_subscribers   \n",
      "0  Learn to cook delicious vegan recipes. Filmed ...           2231.0  \\\n",
      "1  Debunking Myths of Entrepreneurship A startup ...          26474.0   \n",
      "2  Get the tools you need for a lifestyle change ...           1713.0   \n",
      "3  Train your puppy the right way with Dr. Ian Du...           4988.0   \n",
      "4  Learn web design online: Everything you need t...           1266.0   \n",
      "\n",
      "   avg_rating  num_reviews  num_comments  num_lectures  content_length_min   \n",
      "0        3.75        134.0          42.0          37.0              1268.0  \\\n",
      "1        4.50        709.0         112.0           9.0                88.0   \n",
      "2        4.40         41.0          13.0          14.0                82.0   \n",
      "3        4.80        395.0          88.0          36.0              1511.0   \n",
      "4        4.75         38.0          12.0          38.0               569.0   \n",
      "\n",
      "    category          subcategory          topic  \n",
      "0  Lifestyle      Food & Beverage  Vegan Cooking  \n",
      "1   Business     Entrepreneurship   Lean Startup  \n",
      "2  Lifestyle      Other Lifestyle  Vegan Cooking  \n",
      "3  Lifestyle  Pet Care & Training   Pet Training  \n",
      "4     Design           Web Design     Web Design  \n",
      "Remaining rows: 123351\n"
     ]
    }
   ],
   "source": [
    "df.replace(r'^\\s*$', np.nan, regex=True, inplace=True)\n",
    "\n",
    "df = df.dropna()\n",
    "\n",
    "print(df.head())\n",
    "print(f\"Remaining rows: {len(df)}\")\n"
   ]
  },
  {
   "cell_type": "code",
   "execution_count": 40,
   "metadata": {},
   "outputs": [
    {
     "name": "stdout",
     "output_type": "stream",
     "text": [
      "<class 'pandas.core.frame.DataFrame'>\n",
      "Index: 123351 entries, 0 to 209733\n",
      "Data columns (total 13 columns):\n",
      " #   Column              Non-Null Count   Dtype  \n",
      "---  ------              --------------   -----  \n",
      " 0   title               123351 non-null  object \n",
      " 1   is_paid             123351 non-null  bool   \n",
      " 2   price               123351 non-null  float64\n",
      " 3   headline            123351 non-null  object \n",
      " 4   num_subscribers     123351 non-null  float64\n",
      " 5   avg_rating          123351 non-null  float64\n",
      " 6   num_reviews         123351 non-null  float64\n",
      " 7   num_comments        123351 non-null  float64\n",
      " 8   num_lectures        123351 non-null  float64\n",
      " 9   content_length_min  123351 non-null  float64\n",
      " 10  category            123351 non-null  object \n",
      " 11  subcategory         123351 non-null  object \n",
      " 12  topic               123351 non-null  object \n",
      "dtypes: bool(1), float64(7), object(5)\n",
      "memory usage: 12.4+ MB\n"
     ]
    }
   ],
   "source": [
    "df.info()\n",
    "df.to_csv('cleaned_courses.csv',index=False)"
   ]
  },
  {
   "cell_type": "markdown",
   "metadata": {},
   "source": [
    "## <b>Model preprocessing and training</b>\n"
   ]
  },
  {
   "cell_type": "code",
   "execution_count": 41,
   "metadata": {},
   "outputs": [
    {
     "name": "stderr",
     "output_type": "stream",
     "text": [
      "c:\\Users\\Tarosh\\AppData\\Local\\Programs\\Python\\Python310\\lib\\site-packages\\sklearn\\preprocessing\\_encoders.py:868: FutureWarning: `sparse` was renamed to `sparse_output` in version 1.2 and will be removed in 1.4. `sparse_output` is ignored unless you leave `sparse` to its default value.\n",
      "  warnings.warn(\n"
     ]
    }
   ],
   "source": [
    "# additional weight \n",
    "category_weight = 5\n",
    "subcategory_weight = 4\n",
    "\n",
    "# numerical data normalization\n",
    "numerical_columns = ['price', 'num_subscribers', 'avg_rating', 'num_reviews', 'num_lectures', 'content_length_min']\n",
    "scaler = StandardScaler()\n",
    "numerical_data = df[numerical_columns].copy()  \n",
    "normalized_numerical_features = scaler.fit_transform(numerical_data)\n",
    "\n",
    "# categorical data encoding\n",
    "categorical_columns = ['category', 'subcategory', 'is_paid']\n",
    "encoder = OneHotEncoder(sparse=False, handle_unknown='ignore')\n",
    "encoded_categorical_data = encoder.fit_transform(df[categorical_columns])\n",
    "\n",
    "# extract specific parts of the encoded categorical data for weighted scaling\n",
    "encoded_category = encoded_categorical_data[:, :len(df['category'].unique())]  # 'category' columns\n",
    "encoded_subcategory = encoded_categorical_data[:, len(df['category'].unique()):(len(df['category'].unique()) + len(df['subcategory'].unique()))]  # 'subcategory' columns\n",
    "encoded_is_paid = encoded_categorical_data[:, -1]  # 'is_paid' column\n",
    "\n",
    "weighted_category = encoded_category * category_weight\n",
    "weighted_subcategory = encoded_subcategory * subcategory_weight\n",
    "\n",
    "encoded_categorical_df = np.hstack([weighted_category, weighted_subcategory, encoded_is_paid.reshape(-1, 1)])\n",
    "\n",
    "# text tokenization for Topic Column\n",
    "tokenizer = Tokenizer(num_words=5000)  # Limit vocabulary to top 5000 words\n",
    "tokenizer.fit_on_texts(df['topic'])\n",
    "topic_sequences = tokenizer.texts_to_sequences(df['topic'])\n",
    "\n",
    "# padding sequences \n",
    "topic_padded = pad_sequences(topic_sequences, padding='post')\n",
    "\n",
    "combined_features = np.hstack([\n",
    "    topic_padded,  \n",
    "    normalized_numerical_features,  \n",
    "    encoded_categorical_df  \n",
    "])\n",
    "\n"
   ]
  },
  {
   "cell_type": "markdown",
   "metadata": {},
   "source": [
    "###  <b>Using Embeddings</b>"
   ]
  },
  {
   "cell_type": "code",
   "execution_count": 42,
   "metadata": {},
   "outputs": [
    {
     "name": "stdout",
     "output_type": "stream",
     "text": [
      "3855/3855 [==============================] - 6s 1ms/step\n"
     ]
    }
   ],
   "source": [
    "\n",
    "\n",
    "embedding_dim = 64  \n",
    "\n",
    "embedding_model = models.Sequential([\n",
    "    layers.Input(shape=(combined_features.shape[1],)),\n",
    "    layers.Dense(128, activation='relu'),\n",
    "    layers.Dense(embedding_dim, activation='linear')  # Embedding layer\n",
    "])\n",
    "\n",
    "# Generate embeddings\n",
    "embeddings = embedding_model.predict(combined_features)\n",
    "\n",
    "# Normalize embeddings for cosine similarity\n",
    "normalized_embeddings = embeddings / np.linalg.norm(embeddings, axis=1, keepdims=True)\n"
   ]
  },
  {
   "cell_type": "code",
   "execution_count": 43,
   "metadata": {},
   "outputs": [],
   "source": [
    "np.save(\"embeddings.npy\", normalized_embeddings)\n"
   ]
  },
  {
   "cell_type": "code",
   "execution_count": 44,
   "metadata": {},
   "outputs": [
    {
     "name": "stdout",
     "output_type": "stream",
     "text": [
      "Input Course: Creative Watercolours Beginners\n",
      "Recommended Courses:\n",
      "\n",
      "Course Title: How to Paint a Realistic Robin Bird in Watercolour, Similarity: 1.00\n",
      "Course Title: How to Paint Watercolour - An Entirely New Approach, Similarity: 1.00\n",
      "Course Title: Watercolor realistic orchid painting: step by step workshop, Similarity: 1.00\n",
      "Course Title: Watercolor painting with Master step-by-step: Poppy field, Similarity: 1.00\n",
      "Course Title: Watercolor Course Paint this Window Seascape, Similarity: 1.00\n"
     ]
    },
    {
     "data": {
      "text/html": [
       "<div>\n",
       "<style scoped>\n",
       "    .dataframe tbody tr th:only-of-type {\n",
       "        vertical-align: middle;\n",
       "    }\n",
       "\n",
       "    .dataframe tbody tr th {\n",
       "        vertical-align: top;\n",
       "    }\n",
       "\n",
       "    .dataframe thead th {\n",
       "        text-align: right;\n",
       "    }\n",
       "</style>\n",
       "<table border=\"1\" class=\"dataframe\">\n",
       "  <thead>\n",
       "    <tr style=\"text-align: right;\">\n",
       "      <th></th>\n",
       "      <th>title</th>\n",
       "      <th>is_paid</th>\n",
       "      <th>price</th>\n",
       "      <th>headline</th>\n",
       "      <th>num_subscribers</th>\n",
       "      <th>avg_rating</th>\n",
       "      <th>num_reviews</th>\n",
       "      <th>num_comments</th>\n",
       "      <th>num_lectures</th>\n",
       "      <th>content_length_min</th>\n",
       "      <th>category</th>\n",
       "      <th>subcategory</th>\n",
       "      <th>topic</th>\n",
       "    </tr>\n",
       "  </thead>\n",
       "  <tbody>\n",
       "    <tr>\n",
       "      <th>79682</th>\n",
       "      <td>How to Paint a Realistic Robin Bird in Waterco...</td>\n",
       "      <td>False</td>\n",
       "      <td>0.0</td>\n",
       "      <td>Learn to paint wildlife in watercolor!</td>\n",
       "      <td>6356.0</td>\n",
       "      <td>4.95</td>\n",
       "      <td>98.0</td>\n",
       "      <td>30.0</td>\n",
       "      <td>5.0</td>\n",
       "      <td>180.0</td>\n",
       "      <td>Lifestyle</td>\n",
       "      <td>Arts &amp; Crafts</td>\n",
       "      <td>Watercolor Painting</td>\n",
       "    </tr>\n",
       "    <tr>\n",
       "      <th>67645</th>\n",
       "      <td>How to Paint Watercolour - An Entirely New App...</td>\n",
       "      <td>False</td>\n",
       "      <td>0.0</td>\n",
       "      <td>You've never seen watercolour done this way be...</td>\n",
       "      <td>8419.0</td>\n",
       "      <td>4.45</td>\n",
       "      <td>276.0</td>\n",
       "      <td>53.0</td>\n",
       "      <td>8.0</td>\n",
       "      <td>107.0</td>\n",
       "      <td>Lifestyle</td>\n",
       "      <td>Arts &amp; Crafts</td>\n",
       "      <td>Watercolor Painting</td>\n",
       "    </tr>\n",
       "    <tr>\n",
       "      <th>14950</th>\n",
       "      <td>Watercolor realistic orchid painting: step by ...</td>\n",
       "      <td>False</td>\n",
       "      <td>0.0</td>\n",
       "      <td>Watch me creating realistic botanical illustra...</td>\n",
       "      <td>11254.0</td>\n",
       "      <td>4.35</td>\n",
       "      <td>235.0</td>\n",
       "      <td>62.0</td>\n",
       "      <td>11.0</td>\n",
       "      <td>85.0</td>\n",
       "      <td>Lifestyle</td>\n",
       "      <td>Arts &amp; Crafts</td>\n",
       "      <td>Watercolor Painting</td>\n",
       "    </tr>\n",
       "    <tr>\n",
       "      <th>38161</th>\n",
       "      <td>Watercolor painting with Master step-by-step: ...</td>\n",
       "      <td>False</td>\n",
       "      <td>0.0</td>\n",
       "      <td>3-steps lesson teaches you how to create a rea...</td>\n",
       "      <td>5406.0</td>\n",
       "      <td>4.45</td>\n",
       "      <td>130.0</td>\n",
       "      <td>21.0</td>\n",
       "      <td>9.0</td>\n",
       "      <td>109.0</td>\n",
       "      <td>Lifestyle</td>\n",
       "      <td>Arts &amp; Crafts</td>\n",
       "      <td>Watercolor Painting</td>\n",
       "    </tr>\n",
       "    <tr>\n",
       "      <th>15430</th>\n",
       "      <td>Watercolor Course Paint this Window Seascape</td>\n",
       "      <td>False</td>\n",
       "      <td>0.0</td>\n",
       "      <td>Project - Create a lovely Watercolor Painting ...</td>\n",
       "      <td>6845.0</td>\n",
       "      <td>4.40</td>\n",
       "      <td>228.0</td>\n",
       "      <td>74.0</td>\n",
       "      <td>16.0</td>\n",
       "      <td>62.0</td>\n",
       "      <td>Lifestyle</td>\n",
       "      <td>Arts &amp; Crafts</td>\n",
       "      <td>Watercolor Painting</td>\n",
       "    </tr>\n",
       "  </tbody>\n",
       "</table>\n",
       "</div>"
      ],
      "text/plain": [
       "                                                   title  is_paid  price   \n",
       "79682  How to Paint a Realistic Robin Bird in Waterco...    False    0.0  \\\n",
       "67645  How to Paint Watercolour - An Entirely New App...    False    0.0   \n",
       "14950  Watercolor realistic orchid painting: step by ...    False    0.0   \n",
       "38161  Watercolor painting with Master step-by-step: ...    False    0.0   \n",
       "15430       Watercolor Course Paint this Window Seascape    False    0.0   \n",
       "\n",
       "                                                headline  num_subscribers   \n",
       "79682             Learn to paint wildlife in watercolor!           6356.0  \\\n",
       "67645  You've never seen watercolour done this way be...           8419.0   \n",
       "14950  Watch me creating realistic botanical illustra...          11254.0   \n",
       "38161  3-steps lesson teaches you how to create a rea...           5406.0   \n",
       "15430  Project - Create a lovely Watercolor Painting ...           6845.0   \n",
       "\n",
       "       avg_rating  num_reviews  num_comments  num_lectures   \n",
       "79682        4.95         98.0          30.0           5.0  \\\n",
       "67645        4.45        276.0          53.0           8.0   \n",
       "14950        4.35        235.0          62.0          11.0   \n",
       "38161        4.45        130.0          21.0           9.0   \n",
       "15430        4.40        228.0          74.0          16.0   \n",
       "\n",
       "       content_length_min   category    subcategory                topic  \n",
       "79682               180.0  Lifestyle  Arts & Crafts  Watercolor Painting  \n",
       "67645               107.0  Lifestyle  Arts & Crafts  Watercolor Painting  \n",
       "14950                85.0  Lifestyle  Arts & Crafts  Watercolor Painting  \n",
       "38161               109.0  Lifestyle  Arts & Crafts  Watercolor Painting  \n",
       "15430                62.0  Lifestyle  Arts & Crafts  Watercolor Painting  "
      ]
     },
     "execution_count": 44,
     "metadata": {},
     "output_type": "execute_result"
    }
   ],
   "source": [
    "def recommend_similar_courses(course_index, embeddings, data, top_n=5):\n",
    "    \n",
    "    input_embedding = embeddings[course_index]\n",
    "    similarities = cosine_similarity(input_embedding.reshape(1, -1), embeddings).flatten()\n",
    "    \n",
    "    # Get top N most similar courses (excluding the input course itself)\n",
    "    similar_indices = similarities.argsort()[-(top_n + 1):-1][::-1]\n",
    "    \n",
    "    input_course = data.iloc[course_index]\n",
    "    print(f\"Input Course: {input_course['title']}\")\n",
    "    print(f\"Recommended Courses:\\n\")\n",
    "    \n",
    "    for idx in similar_indices:\n",
    "        course_details = data.iloc[idx]\n",
    "        print(f\"Course Title: {course_details['title']}, Similarity: {similarities[idx]:.2f}\")\n",
    "    \n",
    "    return data.iloc[similar_indices]\n",
    "\n",
    "recommend_similar_courses(732, normalized_embeddings, df)"
   ]
  }
 ],
 "metadata": {
  "kernelspec": {
   "display_name": "Python 3",
   "language": "python",
   "name": "python3"
  },
  "language_info": {
   "codemirror_mode": {
    "name": "ipython",
    "version": 3
   },
   "file_extension": ".py",
   "mimetype": "text/x-python",
   "name": "python",
   "nbconvert_exporter": "python",
   "pygments_lexer": "ipython3",
   "version": "3.10.11"
  }
 },
 "nbformat": 4,
 "nbformat_minor": 2
}
